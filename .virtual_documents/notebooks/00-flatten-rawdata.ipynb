import pandas as pd


data = pd.read_csv("../data/data-multi-sensor.csv")
data.head()


def shifting(y):
    y0 = y[0]
    return y - y0


SENS = [f"S{i+1}" for i in range(10)]
SENS


newdata = data[SENS].apply(shifting)
newdata


def transform_for_encoder(data):
    # diambil tiap detik dari detik 0 ke 40
    select = [i for i in range(data.shape[0]) if i % 10 == 0][0:40]
    new_data = data.loc[select].reset_index(drop=True)
    new_data = new_data[SENS]
    return new_data.transpose().to_numpy().flatten()


x = transform_for_encoder(newdata)
x = pd.DataFrame(x).transpose()
x['label'] = 'P'
x



